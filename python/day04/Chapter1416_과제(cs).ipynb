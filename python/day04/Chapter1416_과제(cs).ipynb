{
 "cells": [
  {
   "cell_type": "markdown",
   "metadata": {
    "id": "WXEwMsfUct7U"
   },
   "source": [
    "컴퓨터 기초 지식을 의미하는 CS(Computer science)는<br>\n",
    "코딩 테스트와 함께 기술 면접에서 지원자에게 필수적으로 요구합니다.<br>\n",
    "\n",
    "수업 내용 중 기술 면접에 자주 나오는 질문 3가지와 기본적으로 알아야 할 내용 과제로 선정했습니다.<br>\n",
    "\n",
    "관련 내용에 대해서는 구글링 또는 관련 서적을 통해 상세히 공부하시고<br>\n",
    "답변은 최대한 핵심만 담아 간결하게 작성해주세요<br>\n",
    "\n",
    "기술 블로그를 운영 중이신 경우<br>\n",
    "답변 내용을 기술 블로그에 작성하신 후 링크를 답변에 남겨주셔도 됩니다.<br>"
   ]
  },
  {
   "cell_type": "markdown",
   "metadata": {
    "id": "qoyC9wF-3hvs"
   },
   "source": [
    "-----"
   ]
  },
  {
   "cell_type": "markdown",
   "metadata": {
    "id": "rAD_O3Gmc_43"
   },
   "source": [
    "[문제1]\n",
    "\n",
    "파이썬 2.7 버전과 파이썬 3에서 range 차이를 설명해주세요"
   ]
  },
  {
   "cell_type": "markdown",
   "metadata": {},
   "source": [
    "두 버전 range 함수의 주요 차이점은 반환값의 유형과 메모리 사용 방식입니다.\n",
    "\n",
    "파이썬2.7의 반환값 유형은 리스트였으나 파이썬 3으로 넘어가면서 이터레이터로 바뀌었다는 차이가 있고,\n",
    "\n",
    "파이썬 2.7은 메모리 효율성이 낮았으나 3은 높아졌습니다.\n",
    "\n",
    "또한 2.7의 경우 큰 범위 사용 시 성능이 느렸지만 3으로 넘어가면서 빨라졌다는 차이가 있습니다."
   ]
  },
  {
   "cell_type": "markdown",
   "metadata": {},
   "source": [
    "---"
   ]
  },
  {
   "cell_type": "markdown",
   "metadata": {
    "id": "3uK_auXYdgk2"
   },
   "source": [
    "[문제2]\n",
    "\n",
    "Python의 얕은 복사와 깊은 복사에 대해서 설명하세요"
   ]
  },
  {
   "cell_type": "markdown",
   "metadata": {},
   "source": [
    "얕은 복사는 객체의 참조값, 흔히 말하는 주소값만 복사하는 것을 의미합니다.\n",
    "\n",
    "객체의 주소값을 복사하기 때문에 복사 대상의 값이 바뀌면 복사한 값도 바뀌게 됩니다.\n",
    "\n",
    "결과적으로 두 변수 간의 독립성이 성립하지 않게 됩니다.\n",
    "\n",
    "깊은 복사는 다른 메모리 공간에 값을 복사함으로서 mutable 객체의 독립성을 유지해 주는 역할을 합니다.\n",
    "\n",
    "또한 copy 모듈의 deepcopy 함수를 사용하여 깊은 복사를 할 수 있습니다."
   ]
  }
 ],
 "metadata": {
  "colab": {
   "authorship_tag": "ABX9TyP7YKA5FdtGggYfD74V7SMJ",
   "provenance": []
  },
  "kernelspec": {
   "display_name": "Python 3",
   "name": "python3"
  },
  "language_info": {
   "codemirror_mode": {
    "name": "ipython",
    "version": 3
   },
   "file_extension": ".py",
   "mimetype": "text/x-python",
   "name": "python",
   "nbconvert_exporter": "python",
   "pygments_lexer": "ipython3",
   "version": "3.9.6"
  }
 },
 "nbformat": 4,
 "nbformat_minor": 0
}
